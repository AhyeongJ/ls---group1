{
  "cells": [
    {
      "cell_type": "raw",
      "metadata": {},
      "source": [
        "---\n",
        "title: 전통시장 점포 규모와 인구비율에 관한 분석\n",
        "author: 이태현\n",
        "date: '2024-07-17'\n",
        "categoty:\n",
        "  - project\n",
        "editor:\n",
        "  markdown:\n",
        "    wrap: sentence\n",
        "---"
      ],
      "id": "ca4aaa65"
    },
    {
      "cell_type": "markdown",
      "metadata": {},
      "source": [
        "# 분석 목적\n",
        "\n",
        "전통시장 홍보 목적 가설 : 만약 인구가 많아도 점포수가 적으면 홍보 필요성이 생긴다.\n",
        "여행 루트에 전통시장을 추가?\n",
        "\n",
        "2024년에 보도된 [세계타임즈](https://m.thesegye.com/news/view/1065580969734925)에서 KB국민카드의 전통시장 카드 소비 데이터 분석을 볼 수 있습니다.\n",
        "전통시장의 연령별 매출 비중에서 40%는 60대 이상에서 발생되었습니다.\n",
        "50대 26%, 40대 17%, 30대 10%, 20대 7%로 연령대가 높을수록 매출 비중이 높게 나타났습니다.\n",
        "\n",
        "시장은 인구가 많은 곳에 분포되어 있는데, 전통시장 또한 단순히 인구가 많은 곳이 점포수가 많은지?\n",
        "주 고객층인 60대 이상이 많은 지역에 점포수가 많은지?\n",
        "알고 싶었다.\n",
        "\n",
        "2015년 기준으로 60대 이상 비율이 높은 행정구역에 점포수가 많이 분포되어 있는지 분석하기.\n",
        "이를 바탕으로 60대 비율이 적고, 인구가 많은 수도권, 광역시에 점포수가 많은지?\n",
        "60대 이상 비율이 높고, 인구가 적은 구역에 점포수가 많은지 비교하기.\n",
        "\n",
        "#### 나이 나누기\n",
        "\n",
        "`0~19세 = age_under_20`\n",
        "\n",
        "`20~59세 = age_2050`\n",
        "\n",
        "`60~100세 이상 = age_over_60`\n",
        "\n",
        "한국은 공공기관 및 일부 기업이 60세로 정년으로 두고 있기 때문에 위와 같이 노년의 기준을 60세 이상으로 정했습니다.\n",
        "미국과 유럽은 60\\~65세 사이를 정년으로 두고 있습니다.\n",
        "그리고\n",
        "\n",
        "# 점포수 크기에 따른 연령층 확인하기\n"
      ],
      "id": "828f203b"
    },
    {
      "cell_type": "code",
      "metadata": {},
      "source": [
        "import pandas as pd\n",
        "import numpy as np\n",
        "import matplotlib.pyplot as plt\n",
        "import seaborn as sns"
      ],
      "id": "0e710d94",
      "execution_count": null,
      "outputs": []
    },
    {
      "cell_type": "markdown",
      "metadata": {},
      "source": [
        "#### 2015년 12월 기준 인구조사 파일 불러오기\n"
      ],
      "id": "b9c6e9d8"
    },
    {
      "cell_type": "code",
      "metadata": {},
      "source": [
        "pop = pd.read_excel('data/pop_2015.xlsx')\n",
        "market2 = pd.read_excel('data/traditionalmarket.xlsx')\n",
        "pop\n",
        "pop.head()"
      ],
      "id": "d5e68795",
      "execution_count": null,
      "outputs": []
    },
    {
      "cell_type": "markdown",
      "metadata": {},
      "source": [
        "#### 원본 숫자 안에 , 를 없애기 (문자열을 숫자열로 바꾸기)\n"
      ],
      "id": "af7a0a57"
    },
    {
      "cell_type": "code",
      "metadata": {},
      "source": [
        "type(pop)\n",
        "pop.shape\n",
        "pop\n",
        "pop.iloc[:-1, 1:].str.replace(\",\",'')"
      ],
      "id": "5c4d0aea",
      "execution_count": null,
      "outputs": []
    },
    {
      "cell_type": "code",
      "metadata": {},
      "source": [
        "pop.loc[1:18,1:14] = subset\n",
        "pop = pop.iloc[0:18,0:14]\n",
        "pop"
      ],
      "id": "68d3ee15",
      "execution_count": null,
      "outputs": []
    },
    {
      "cell_type": "markdown",
      "metadata": {},
      "source": [
        "#### 각 지역마다 연령층 비율 계산하기\n"
      ],
      "id": "4c2e1981"
    },
    {
      "cell_type": "code",
      "metadata": {},
      "source": [
        "pop_서울 = pop['총 인구수'][1]\n",
        "pop_부산 = pop['총 인구수'][2]\n",
        "pop_대구 = pop['총 인구수'][3]\n",
        "pop_인천 = pop['총 인구수'][4]\n",
        "pop_광주 = pop['총 인구수'][5]\n",
        "pop_대전 = pop['총 인구수'][6]\n",
        "pop_울산 = pop['총 인구수'][7]\n",
        "pop_세종 = pop['총 인구수'][8]\n",
        "pop_경기 = pop['총 인구수'][9]\n",
        "pop_강원 = pop['총 인구수'][10]\n",
        "pop_충북 = pop['총 인구수'][11]\n",
        "pop_충남 = pop['총 인구수'][12]\n",
        "pop_전북 = pop['총 인구수'][13]\n",
        "pop_전남 = pop['총 인구수'][14]\n",
        "pop_경북 = pop['총 인구수'][15]\n",
        "pop_경남 = pop['총 인구수'][16]\n",
        "pop_제주 = pop['총 인구수'][17]\n",
        "\n",
        "서울_유소년_비율 = (pop.iloc[1,3:5].sum()) / pop_서울* 100\n",
        "부산_유소년_비율 = (pop.iloc[2,3:5].sum()) / pop_부산* 100\n",
        "대구_유소년_비율 = (pop.iloc[3,3:5].sum()) / pop_대구* 100\n",
        "인천_유소년_비율 = (pop.iloc[4,3:5].sum()) / pop_인천* 100\n",
        "광주_유소년_비율 = (pop.iloc[5,3:5].sum()) / pop_광주* 100\n",
        "대전_유소년_비율 = (pop.iloc[6,3:5].sum()) / pop_대전* 100\n",
        "울산_유소년_비율 = (pop.iloc[7,3:5].sum()) / pop_울산* 100\n",
        "세종_유소년_비율 = (pop.iloc[8,3:5].sum()) / pop_세종* 100\n",
        "경기_유소년_비율 = (pop.iloc[9,3:5].sum()) / pop_경기* 100\n",
        "강원_유소년_비율 = (pop.iloc[10,3:5].sum()) / pop_강원* 100\n",
        "충북_유소년_비율 = (pop.iloc[11,3:5].sum()) / pop_충북* 100\n",
        "충남_유소년_비율 = (pop.iloc[12,3:5].sum()) / pop_충남* 100\n",
        "전북_유소년_비율 = (pop.iloc[13,3:5].sum()) / pop_전북* 100\n",
        "전남_유소년_비율 = (pop.iloc[14,3:5].sum()) / pop_전남* 100\n",
        "경북_유소년_비율 = (pop.iloc[15,3:5].sum()) / pop_경북* 100\n",
        "경남_유소년_비율 = (pop.iloc[16,3:5].sum()) / pop_경남* 100\n",
        "제주_유소년_비율 = (pop.iloc[17,3:5].sum()) / pop_제주* 100\n",
        "\n",
        "\n",
        "서울_성인_비율 = (pop.iloc[1,5:9].sum()) / pop_서울 * 100\n",
        "부산_성인_비율 = (pop.iloc[2,5:9].sum()) / pop_부산* 100\n",
        "대구_성인_비율 = (pop.iloc[3,5:9].sum()) / pop_대구* 100\n",
        "인천_성인_비율 = (pop.iloc[4,5:9].sum()) / pop_인천* 100\n",
        "광주_성인_비율 = (pop.iloc[5,5:9].sum()) / pop_광주* 100\n",
        "대전_성인_비율 = (pop.iloc[6,5:9].sum()) / pop_대전* 100\n",
        "울산_성인_비율 = (pop.iloc[7,5:9].sum()) / pop_울산* 100\n",
        "세종_성인_비율 = (pop.iloc[8,5:9].sum()) / pop_세종* 100\n",
        "경기_성인_비율 = (pop.iloc[9,5:9].sum()) / pop_경기* 100\n",
        "강원_성인_비율 = (pop.iloc[10,5:9].sum()) / pop_강원* 100\n",
        "충북_성인_비율 = (pop.iloc[11,5:9].sum()) / pop_충북* 100\n",
        "충남_성인_비율 = (pop.iloc[12,5:9].sum()) / pop_충남* 100\n",
        "전북_성인_비율 = (pop.iloc[13,5:9].sum()) / pop_전북* 100\n",
        "전남_성인_비율 = (pop.iloc[14,5:9].sum()) / pop_전남* 100\n",
        "경북_성인_비율 = (pop.iloc[15,5:9].sum()) / pop_경북* 100\n",
        "경남_성인_비율 = (pop.iloc[16,5:9].sum()) / pop_경남* 100\n",
        "제주_성인_비율 = (pop.iloc[17,5:9].sum()) / pop_제주* 100\n",
        "\n",
        "\n",
        "서울_노인_비율 = (pop.iloc[1,9:14].sum()) / pop_서울 * 100\n",
        "부산_노인_비율 = (pop.iloc[2,9:14].sum()) / pop_부산* 100\n",
        "대구_노인_비율 = (pop.iloc[3,9:14].sum()) / pop_대구* 100\n",
        "인천_노인_비율 = (pop.iloc[4,9:14].sum()) / pop_인천* 100\n",
        "광주_노인_비율 = (pop.iloc[5,9:14].sum()) / pop_광주* 100\n",
        "대전_노인_비율 = (pop.iloc[6,9:14].sum()) / pop_대전* 100\n",
        "울산_노인_비율 = (pop.iloc[7,9:14].sum()) / pop_울산* 100\n",
        "세종_노인_비율 = (pop.iloc[8,9:14].sum()) / pop_세종* 100\n",
        "경기_노인_비율 = (pop.iloc[9,9:14].sum()) / pop_경기* 100\n",
        "강원_노인_비율 = (pop.iloc[10,9:14].sum()) / pop_강원* 100\n",
        "충북_노인_비율 = (pop.iloc[11,9:14].sum()) / pop_충북* 100\n",
        "충남_노인_비율 = (pop.iloc[12,9:14].sum()) / pop_충남* 100\n",
        "전북_노인_비율 = (pop.iloc[13,9:14].sum()) / pop_전북* 100\n",
        "전남_노인_비율 = (pop.iloc[14,9:14].sum()) / pop_전남* 100\n",
        "경북_노인_비율 = (pop.iloc[15,9:14].sum()) / pop_경북* 100\n",
        "경남_노인_비율 = (pop.iloc[16,9:14].sum()) / pop_경남* 100\n",
        "제주_노인_비율 = (pop.iloc[17,9:14].sum()) / pop_제주* 100"
      ],
      "id": "8b28e176",
      "execution_count": null,
      "outputs": []
    },
    {
      "cell_type": "markdown",
      "metadata": {},
      "source": [
        "#### 인구 비율 DataFrame 만들기\n"
      ],
      "id": "d3229d84"
    },
    {
      "cell_type": "code",
      "metadata": {},
      "source": [
        "pop_ratio = pd.DataFrame({ \\ \n",
        "            'region' = ['서울', '부산', '대구', '인천', '광주', '대전', '울산', '세종', '경기도', '강원도',\n",
        "                        '충청북도', '충청남도', '전라북도', '전라남도', '경상북도', '경상남도', '제주도'],\n",
        "            '유소년비율' = [서울_유소년_비율, 부산_유소년_비율, 대구_유소년_비율, 인천_유소년_비율, 광주_유소년_비율, 대전_유소년_비율, 울산_유소년_비율, 세종_유소년_비율, 경기_유소년_비율, 강원_유소년_비율,\n",
        "충북_유소년_비율, 충남_유소년_비율, 전북_유소년_비율, 전남_유소년_비율, 경북_유소년_비율, 경남_유소년_비율,\n",
        "제주_유소년_비율], \n",
        "        : [서울_유소년_비율, 서울_성인_비율, 서울_노인_비율],\n",
        "        : [부산_유소년_비율, 부산_성인_비율, 부산_노인_비율],\n",
        "        : [대구_유소년_비율, 대구_성인_비율, 대구_노인_비율],\n",
        "        : [인천_유소년_비율, 인천_성인_비율, 인천_노인_비율],\n",
        "        : [광주_유소년_비율, 광주_성인_비율, 광주_노인_비율],\n",
        "        : [대전_유소년_비율, 대전_성인_비율, 대전_노인_비율],\n",
        "        : [울산_유소년_비율, 울산_성인_비율, 울산_노인_비율],\n",
        "        : [세종_유소년_비율, 세종_성인_비율, 세종_노인_비율],\n",
        "       : [경기_유소년_비율, 경기_성인_비율, 경기_노인_비율],\n",
        "       : [강원_유소년_비율, 강원_성인_비율, 강원_노인_비율],\n",
        "      : [충북_유소년_비율, 충북_성인_비율, 충북_노인_비율],\n",
        "      : [충남_유소년_비율, 충남_성인_비율, 충남_노인_비율],\n",
        "      : [전북_유소년_비율, 전북_성인_비율, 전북_노인_비율],\n",
        "      : [전남_유소년_비율, 전남_성인_비율, 전남_노인_비율],\n",
        "      : [경북_유소년_비율, 경북_성인_비율, 경북_노인_비율],\n",
        "      : [경남_유소년_비율, 경남_성인_비율, 경남_노인_비율],\n",
        "       : [제주_유소년_비율, 제주_성인_비율, 제주_노인_비율]\n",
        "  })\n",
        "\n",
        "pop_ratio.index = ['age_under_20','age_2050','age_over_60']\n"
      ],
      "id": "b07b6e94",
      "execution_count": null,
      "outputs": []
    },
    {
      "cell_type": "markdown",
      "metadata": {},
      "source": [
        "pivot 만들기\n"
      ],
      "id": "7cbb3cb0"
    },
    {
      "cell_type": "code",
      "metadata": {},
      "source": [
        "pop_ratio_new = pop_ratio.pivot(index = \")"
      ],
      "id": "8d2982da",
      "execution_count": null,
      "outputs": []
    },
    {
      "cell_type": "markdown",
      "metadata": {},
      "source": [
        "# 이전 데이터 불러오기\n"
      ],
      "id": "bec40215"
    },
    {
      "cell_type": "code",
      "metadata": {},
      "source": [
        "# 데이터 불러오기\n",
        "market = pd.read_excel(\"data/traditionalmarket.xlsx\")\n",
        "\n",
        "# 분석을 위한 복사본 만들기\n",
        "market2 = market.copy()"
      ],
      "id": "115fd388",
      "execution_count": null,
      "outputs": []
    },
    {
      "cell_type": "code",
      "metadata": {},
      "source": [
        "# 엑셀의 변수 한글을 영어로 rename\n",
        "market2 = market2.rename(columns = {\"시장명\"              : \"market_name\", \n",
        "                                    \"시장유형\"            : \"type\",\n",
        "                                    \"소재지도로명주소\"    : \"adress_road\",\n",
        "                                    \"시장개설주기\"        : \"open_period\",\n",
        "                                    \"소재지지번주소\"      : \"address_old\",\n",
        "                                    \"점포수\"              : \"market_count\",\n",
        "                                    \"사용가능상품권\"      : \"certificate\",\n",
        "                                    \"공중화장실 보유여부\" :\"public_toilet\",\n",
        "                                    \"주차장 보유여부\"     : \"parking_lot\",\n",
        "                                    \"개설년도\"            : \"year\",\n",
        "                                    \"데이터기준일자\"      : \"data_date\"})"
      ],
      "id": "24ee3ffc",
      "execution_count": null,
      "outputs": []
    },
    {
      "cell_type": "code",
      "metadata": {},
      "source": [
        "# 데이터의 정보 확인하기\n",
        "market2.describe()\n",
        "market2[\"public_toilet\"].info()\n",
        "market2[\"parking_lot\"].info()\n",
        "market2['market_count'].describe()"
      ],
      "id": "e7168c4b",
      "execution_count": null,
      "outputs": []
    },
    {
      "cell_type": "code",
      "metadata": {},
      "source": [
        "# 점포수에 따른 규모 크기를 설명해주는 변수 만들기\n",
        "market2 = market2.assign(market_scale = np.where(market2[\"market_count\"] >= 134, \"large\", \n",
        "                                        np.where(market2[\"market_count\"] >= 50, \"medium\", \"small\")))\n",
        "\n",
        "# 편의시설의 유무에 따른 레벨링 하기\n",
        "market2['level'] = np.where((market2['public_toilet'] == 'Y') & (market2['parking_lot'] == 'Y'), 'high', \n",
        "                   np.where((market2['public_toilet'] == 'N') & (market2['public_toilet'] == 'N') , 'low', 'intermediate'))"
      ],
      "id": "ef09e6e1",
      "execution_count": null,
      "outputs": []
    },
    {
      "cell_type": "code",
      "metadata": {},
      "source": [
        "# 확인 절차\n",
        "market2.head()"
      ],
      "id": "c7c2fe5a",
      "execution_count": null,
      "outputs": []
    },
    {
      "cell_type": "code",
      "metadata": {},
      "source": [
        "# 그래프 그리기\n",
        "import seaborn as sns\n",
        "import matplotlib.pyplot as plt\n",
        "\n",
        "# x축을 편의 시설 레벨\n",
        "sns.countplot(data = market2, x = 'level', hue = 'level')\n",
        "plt.show()\n",
        "\n",
        "# 그래프 그리기 위한 df 생성\n",
        "# 시장 유형와 규모 크기에 따른 그룹화 / 규모 크기 갯수 추가\n",
        "df = market2.groupby([\"type\", \"market_scale\"], as_index = False) \\\n",
        "            .agg(market_count = (\"market_scale\", \"count\"))\n",
        "\n",
        "# 규모 크기에 따른 내림차순\n",
        "df.sort_values('market_count', ascending = False)\n",
        "\n",
        "# 만든 df를 x축에 시장 유형, y축은 규모 크기에 따른 점포 갯수\n",
        "sns.barplot(data = df, x = 'type', y = 'market_count', hue = 'market_scale')\n",
        "plt.show()"
      ],
      "id": "36391f9a",
      "execution_count": null,
      "outputs": []
    },
    {
      "cell_type": "code",
      "metadata": {},
      "source": [
        "plt.clf()"
      ],
      "id": "07088532",
      "execution_count": null,
      "outputs": []
    },
    {
      "cell_type": "code",
      "metadata": {},
      "source": [
        "market2['region'] = market2['adress_road'].str.split().str[0]\n",
        "market2"
      ],
      "id": "cc0e2ffc",
      "execution_count": null,
      "outputs": []
    }
  ],
  "metadata": {
    "kernelspec": {
      "name": "python3",
      "language": "python",
      "display_name": "Python 3 (ipykernel)"
    }
  },
  "nbformat": 4,
  "nbformat_minor": 5
}