{
  "cells": [
    {
      "cell_type": "raw",
      "metadata": {},
      "source": [
        "---\n",
        "title: presentation1_traditional\n",
        "editor: visual\n",
        "---"
      ],
      "id": "6a4b7002"
    },
    {
      "cell_type": "markdown",
      "metadata": {},
      "source": [
        "#### 필요한 패키지 불러오기 "
      ],
      "id": "a09fd0da"
    },
    {
      "cell_type": "code",
      "metadata": {},
      "source": [
        "import pandas as pd\n",
        "import numpy as np\n",
        "import seaborn as sns\n",
        "import matplotlib.pyplot as plt"
      ],
      "id": "6f62fcca",
      "execution_count": null,
      "outputs": []
    },
    {
      "cell_type": "markdown",
      "metadata": {},
      "source": [
        "#### 데이터 불러오기 "
      ],
      "id": "0c30d307"
    },
    {
      "cell_type": "code",
      "metadata": {},
      "source": [
        "market = pd.read_excel(\"C:/Users/User/Documents/LS 빅데이터 스쿨/lsbigdata_project1/data/traditionalmarket.xlsx\")\n",
        "market2 = market.copy()"
      ],
      "id": "794d85bf",
      "execution_count": null,
      "outputs": []
    },
    {
      "cell_type": "markdown",
      "metadata": {},
      "source": [
        "#### 변수명 재설정하기 "
      ],
      "id": "a6d11c33"
    },
    {
      "cell_type": "code",
      "metadata": {},
      "source": [
        "market2 = market2.rename(columns = {\"시장명\" : \"market_name\", \n",
        "                                    \"시장유형\" : \"type\",\n",
        "                                    \"소재지도로명주소\" : \"open_period\",\n",
        "                                    \"소재지지번주소\" : \"address_old\",\n",
        "                                    \"점포수\" : \"market_count\",\n",
        "                                    \"사용가능상품권\" : \"certificate\",\n",
        "                                    \"공중화장실 보유여부\" :\"public_toilet\",\n",
        "                                    \"주차장 보유여부\" : \"parking_lot\",\n",
        "                                    \"개설년도\" : \"year\",\n",
        "                                    \"데이터기준일자\" : \"data_date\"})"
      ],
      "id": "e7570a0b",
      "execution_count": null,
      "outputs": []
    },
    {
      "cell_type": "markdown",
      "metadata": {},
      "source": [
        "#### 데이터 변수별 요약통계량과 정보 확인하기 "
      ],
      "id": "85573ee4"
    },
    {
      "cell_type": "code",
      "metadata": {},
      "source": [
        "market2['market_count'].describe()\n",
        "market2[\"public_toilet\"].info()\n",
        "market2[\"parking_lot\"].info()"
      ],
      "id": "5bbc5120",
      "execution_count": null,
      "outputs": []
    },
    {
      "cell_type": "markdown",
      "metadata": {},
      "source": [
        "#### market_scale 파생변수 생성과 막대그래프 확인"
      ],
      "id": "12dae886"
    },
    {
      "cell_type": "code",
      "metadata": {},
      "source": [
        "plt.clf()\n",
        "market2 = market2.assign(market_scale = np.where(market2[\"market_count\"] >= 134, \"large\", \n",
        "                                        np.where(market2[\"market_count\"] >= 50, \"medium\", \"small\")))\n",
        "sns.countplot(data = market2, x = 'market_scale', hue = 'market_scale')\n",
        "plt.show()"
      ],
      "id": "1057406c",
      "execution_count": null,
      "outputs": []
    },
    {
      "cell_type": "markdown",
      "metadata": {},
      "source": [
        "#### conv_level 파생변수 생성과 막대그래프 확인인"
      ],
      "id": "a8bc2d22"
    },
    {
      "cell_type": "code",
      "metadata": {},
      "source": [
        "plt.clf()\n",
        "market2['conv_level'] = np.where((market2['public_toilet'] == 'Y') & (market2['parking_lot'] == 'Y'), 'high', \n",
        "                   np.where((market2['public_toilet'] == 'N') & (market2['public_toilet'] == 'N') , 'low', 'intermediate'))\n",
        "sns.countplot(data = market2, x = 'conv_level', hue = 'conv_level')\n",
        "plt.show()"
      ],
      "id": "6ca428f1",
      "execution_count": null,
      "outputs": []
    },
    {
      "cell_type": "markdown",
      "metadata": {},
      "source": [
        "#### 시장유형 및 점포규모의 시장개수 알아보기 "
      ],
      "id": "fd66694d"
    },
    {
      "cell_type": "code",
      "metadata": {},
      "source": [
        "df = market2.groupby([\"type\", \"market_scale\"], as_index = False) \\\n",
        "            .agg(market_count = (\"market_scale\", \"count\"))\n",
        "df.sort_values('market_count', ascending = False)"
      ],
      "id": "f1930238",
      "execution_count": null,
      "outputs": []
    },
    {
      "cell_type": "markdown",
      "metadata": {},
      "source": [
        "#### 막대그래프로 알아보기 "
      ],
      "id": "e1eb295d"
    },
    {
      "cell_type": "code",
      "metadata": {},
      "source": [
        "plt.clf()\n",
        "sns.barplot(data = df, x = 'type', y = 'market_count', hue = 'market_scale')\n",
        "plt.show()"
      ],
      "id": "3b541817",
      "execution_count": null,
      "outputs": []
    }
  ],
  "metadata": {
    "kernelspec": {
      "name": "python3",
      "language": "python",
      "display_name": "Python 3 (ipykernel)"
    }
  },
  "nbformat": 4,
  "nbformat_minor": 5
}